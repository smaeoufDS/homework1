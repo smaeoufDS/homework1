{
 "cells": [
  {
   "cell_type": "markdown",
   "metadata": {},
   "source": [
    "# Assignment 1\n",
    "\n",
    "# MAS DSE200"
   ]
  },
  {
   "cell_type": "markdown",
   "metadata": {},
   "source": [
    "## Instructions\n",
    "\n",
    "* The answers to the questions should be submitted on github. \n",
    "* You don’t need to explain your approach (unless specified) so please be concise in your submission. \n",
    "* To obtain full marks for a question, both the answer and the code should be correct. \n",
    "* Completely wrong (or missing) code with correct answer will result in zero marks. \n",
    "* Please code the solution in the space provided."
   ]
  },
  {
   "cell_type": "markdown",
   "metadata": {},
   "source": [
    "# Part 1: Python"
   ]
  },
  {
   "cell_type": "markdown",
   "metadata": {},
   "source": [
    "**1.1**:  Write a program to swap 2 variables and print their data types\n",
    "\n",
    "* Initialize 2 variables my_int = 5 , and my_float = 1.5\n",
    "* Swap these variables such that my_int now holds the value of my_float and vice versa\n",
    "* Verify this by printing their data types "
   ]
  },
  {
   "cell_type": "code",
   "execution_count": 67,
   "metadata": {},
   "outputs": [
    {
     "name": "stdout",
     "output_type": "stream",
     "text": [
      "Value of my_int =  1.5\n",
      "Data type of my_int =  <class 'float'>\n",
      "Value of my_float =  5\n",
      "Data type of my_float =  <class 'int'>\n"
     ]
    }
   ],
   "source": [
    "# COMPLETE THIS CELL\n",
    "my_int =5\n",
    "my_float = 1.5\n",
    "x = my_int\n",
    "my_int = my_float\n",
    "my_float = x\n",
    "\n",
    "print (\"Value of my_int = \", my_int)\n",
    "print (\"Data type of my_int = \", type(my_int) )\n",
    "print (\"Value of my_float = \", my_float)\n",
    "print (\"Data type of my_float = \", type (my_float))"
   ]
  },
  {
   "cell_type": "markdown",
   "metadata": {},
   "source": [
    "**1.2**  Write a Python Program to Calculate the Area of a Triangle\n",
    "\n",
    "* Initialize the 3 sides of the triangle a, b and c to 5, 6 and 7 \n",
    "* Calculate the semiperimeter using the formula - s = (a+b+c)/2\n",
    "* Calculate the area using the formula - area = √(s(s-a)*(s-b)*(s-c))"
   ]
  },
  {
   "cell_type": "code",
   "execution_count": 68,
   "metadata": {},
   "outputs": [
    {
     "name": "stdout",
     "output_type": "stream",
     "text": [
      "The area of the triangle is 14.70\n"
     ]
    }
   ],
   "source": [
    "# COMPLETE THIS CELL\n",
    "import math  \n",
    "\n",
    "a = 5\n",
    "b = 6\n",
    "c = 7\n",
    "\n",
    "s = (a + b + c)*0.5 # calculate the semi-perimeter\n",
    "area = math.sqrt(s*(s-a)*(s-b)*(s-c)) # calculate the area\n",
    "\n",
    "print('The area of the triangle is %0.2f' %area)"
   ]
  },
  {
   "cell_type": "markdown",
   "metadata": {},
   "source": [
    "**1.3**: Write a Python Program to Check if a Number is Odd or Even\n",
    "\n",
    "* Initialize a variable that takes input from user\n",
    "* Check and print if the number is odd or even"
   ]
  },
  {
   "cell_type": "code",
   "execution_count": 72,
   "metadata": {},
   "outputs": [
    {
     "name": "stdout",
     "output_type": "stream",
     "text": [
      "Enter number to check if it is Odd or Even: 115\n",
      "It is Odd number\n"
     ]
    }
   ],
   "source": [
    "# COMPLETE THIS CELL\n",
    "\n",
    "num = input('Enter number to check if it is Odd or Even: ') # Take input from user \n",
    "x = int(num) % 2\n",
    "#print (x)\n",
    "if x==0:\n",
    "    print ('It is Even number')\n",
    "else:\n",
    "    print ('It is Odd number')\n"
   ]
  },
  {
   "cell_type": "markdown",
   "metadata": {},
   "source": [
    "**1.4**: Write a Python Program to Check Whether a String is Palindrome or Not\n",
    "\n",
    "* Initialize a string\n",
    "* Lower case it to allow easy comparison\n",
    "* Check using if-else statements if the string is a palindrome \n",
    "* A palindrome is a string which is same read forward or backwards."
   ]
  },
  {
   "cell_type": "code",
   "execution_count": 81,
   "metadata": {},
   "outputs": [
    {
     "name": "stdout",
     "output_type": "stream",
     "text": [
      "It is Palindrome \n"
     ]
    }
   ],
   "source": [
    "# COMPLETE THIS CELL\n",
    "\n",
    "def check(x):\n",
    "    if x%2 ==0:\n",
    "        return 'even'\n",
    "    else:\n",
    "        return 'odd'\n",
    "\n",
    "#my_str = 'aIbohPhoBiA' # change this value for a different output\n",
    "my_str = 'Madam'\n",
    "s = my_str.lower()\n",
    "x = list(s)\n",
    "a = len(x)\n",
    "#print(a)\n",
    "l = check(a)\n",
    "#print(l)\n",
    "i = a//2\n",
    "if l == 'even':\n",
    "    xx = x[:i]\n",
    "    #print(xx)\n",
    "    yy = x[i:]\n",
    "    #print(yy)\n",
    "    yy.reverse()\n",
    "    #print(yy)\n",
    "    if xx == yy:\n",
    "        print('It is Palindrome ')\n",
    "    else:\n",
    "        print('It is not Palindrome')\n",
    "else:\n",
    "    xx = x[:i+1]\n",
    "   # print(xx)\n",
    "    yy = x[i:]\n",
    "    #print(yy)\n",
    "    yy.reverse()\n",
    "    #print(yy)\n",
    "    if xx == yy:\n",
    "        print('It is Palindrome ')\n",
    "    else:\n",
    "        print('It is not Palindrome')\n",
    "    "
   ]
  },
  {
   "cell_type": "markdown",
   "metadata": {},
   "source": [
    "**1.6**  **Print numbers divisible by 3 between 1 and 20, inclusive**\n",
    "\n",
    "* Take upper limit 20 using range\n",
    "* Iterate through these numbers using for loop\n",
    "* Print only a number divisible by 3 using if"
   ]
  },
  {
   "cell_type": "code",
   "execution_count": 87,
   "metadata": {},
   "outputs": [
    {
     "name": "stdout",
     "output_type": "stream",
     "text": [
      "range(1, 21)\n",
      "[3, 6, 9, 12, 15, 18]\n"
     ]
    }
   ],
   "source": [
    "# COMPLETE THIS CELL\n",
    "\n",
    "limit = range(1,21)\n",
    "#print(limit)\n",
    "ans = [number for number in limit if number % 3 ==0] # Complete the loop\n",
    "print (ans)"
   ]
  },
  {
   "cell_type": "markdown",
   "metadata": {},
   "source": [
    "**1.7** Write a Python Program to print the following pattern\n",
    "\n",
    "* Initialize a variable n that denotes the number of lines\n",
    "* Use nested for loops to print the following pattern \n",
    "\n",
    "1<br>\n",
    "1 2<br>\n",
    "1 2 3<br> \n",
    "1 2 3 4<br> \n",
    "1 2 3 4 5<br> "
   ]
  },
  {
   "cell_type": "code",
   "execution_count": 92,
   "metadata": {},
   "outputs": [
    {
     "name": "stdout",
     "output_type": "stream",
     "text": [
      "1 \r\n",
      "1 2 \r\n",
      "1 2 3 \r\n",
      "1 2 3 4 \r\n",
      "1 2 3 4 5 \r\n"
     ]
    }
   ],
   "source": [
    "# COMPLETE CELL BELOW\n",
    "\n",
    "n = 5\n",
    "for i in range(1,n+1):\n",
    "    for j in range(1,i+1):\n",
    "        print(j , end=\" \")\n",
    "    print (\"\\r\")\n",
    "        \n"
   ]
  },
  {
   "cell_type": "markdown",
   "metadata": {},
   "source": [
    "### 1.8 Write a Python Program that defines a function to Remove Punctuations From a String\n",
    "\n",
    "* You can initialize a string of your choice \n",
    "* Define the function \n",
    "* Use a for loop to remove punctuations"
   ]
  },
  {
   "cell_type": "code",
   "execution_count": 95,
   "metadata": {},
   "outputs": [
    {
     "name": "stdout",
     "output_type": "stream",
     "text": [
      "<class 'str'>\n",
      "Hello he said and went\n"
     ]
    }
   ],
   "source": [
    "# COMPLETE THE CELL BELOW \n",
    "\n",
    "punctuations = '''!()-[]{};:'\"\\,<>./?@#$%^&*_~'''# define punctuation\n",
    "print (type(punctuations))\n",
    "my_str = \"Hello!!!, he said ---and went.\"\n",
    "#my_str = \"\"'fdsjfpsjfw!:,dsfljdsls.fsljfs//sdljfs?\"\"'\n",
    "\n",
    "\n",
    "#s = input(\"Enter any string with punctuations: \")\n",
    "\n",
    "def removePunc(s):\n",
    "    nop =\"\"\n",
    "    for c in s:\n",
    "        if c not in punctuations:\n",
    "            nop = nop + c\n",
    "    return nop\n",
    "    \n",
    "    # Complete the function using a for loop\n",
    "        \n",
    "\n",
    "# my_str = input(\"Enter a string: \") # To take input from the user\n",
    "\n",
    "print (removePunc(my_str))"
   ]
  },
  {
   "cell_type": "markdown",
   "metadata": {},
   "source": [
    "### 1.9 **Write a program to define a function that takes a limit as a parameter and returns the sum of all numbers upto that limit (exclusive)**\n",
    "\n",
    "* You can define a limit of your choice \n",
    "* Define the function \n",
    "* Use a for loop to add numbers upto the limit"
   ]
  },
  {
   "cell_type": "code",
   "execution_count": 96,
   "metadata": {},
   "outputs": [
    {
     "name": "stdout",
     "output_type": "stream",
     "text": [
      "Result is 45\n"
     ]
    }
   ],
   "source": [
    "# COMPLETE THE CELL BELOW \n",
    "\n",
    "def sum(limit): # Complete the function using a for loop and range\n",
    "    x = 0\n",
    "    for i in range(limit):\n",
    "        x = x + i\n",
    "    return x\n",
    "    \n",
    "limit = 10 # Define a limit of your choice \n",
    "total = sum(limit)\n",
    "print (\"Result is\", total)\n"
   ]
  },
  {
   "cell_type": "markdown",
   "metadata": {},
   "source": [
    "### 1.10 Define a class named Rectangle that can calculate the area\n",
    "\n",
    "* The class can be constructed by a length and width\n",
    "* The class has a method which can compute the area "
   ]
  },
  {
   "cell_type": "code",
   "execution_count": 97,
   "metadata": {},
   "outputs": [
    {
     "name": "stdout",
     "output_type": "stream",
     "text": [
      "<class '__main__.Rectangle'>\n",
      "12\n"
     ]
    }
   ],
   "source": [
    "# COMPLETE CELL BELOW \n",
    "\n",
    "class Rectangle(object):\n",
    "    def __init__(self,l,w):\n",
    "        self.l = l\n",
    "        self.w = w   \n",
    "    def area(self):\n",
    "        area = self.l * self.w\n",
    "        return area\n",
    "\n",
    "r = Rectangle(3,4) \n",
    "a = r.area()\n",
    "print(a)"
   ]
  },
  {
   "cell_type": "markdown",
   "metadata": {},
   "source": [
    "# Part 2: Numpy"
   ]
  },
  {
   "cell_type": "markdown",
   "metadata": {},
   "source": [
    "### Data\n",
    "\n",
    "Download the `wine_data.csv` and `wine_modified.csv` data from tritoned and place the file in the same folder as this jupyter notebook."
   ]
  },
  {
   "cell_type": "code",
   "execution_count": 102,
   "metadata": {},
   "outputs": [],
   "source": [
    "import numpy as np\n",
    "\n",
    "raw_data = np.genfromtxt('./wine_data.csv', delimiter=',')[1:]"
   ]
  },
  {
   "cell_type": "code",
   "execution_count": 103,
   "metadata": {},
   "outputs": [
    {
     "name": "stdout",
     "output_type": "stream",
     "text": [
      "[[1.253e+01 5.510e+00 2.640e+00 ... 1.690e+00 5.150e+02 3.000e+00]\n",
      " [1.349e+01 1.660e+00 2.240e+00 ... 2.780e+00 4.720e+02 2.000e+00]\n",
      " [1.375e+01 1.730e+00 2.410e+00 ... 2.900e+00 1.320e+03 1.000e+00]\n",
      " ...\n",
      " [1.279e+01 2.670e+00 2.480e+00 ... 1.470e+00 4.800e+02 3.000e+00]\n",
      " [1.377e+01 1.900e+00 2.680e+00 ... 2.930e+00 1.375e+03 1.000e+00]\n",
      " [1.324e+01 2.590e+00 2.870e+00 ... 2.930e+00 7.350e+02 1.000e+00]]\n"
     ]
    }
   ],
   "source": [
    "print(raw_data)"
   ]
  },
  {
   "cell_type": "code",
   "execution_count": 104,
   "metadata": {},
   "outputs": [
    {
     "name": "stdout",
     "output_type": "stream",
     "text": [
      "[[1.253e+01 5.510e+00 2.640e+00 ... 1.690e+00 5.150e+02 3.000e+00]\n",
      " [1.349e+01 1.660e+00 2.240e+00 ... 2.780e+00 4.720e+02 2.000e+00]\n",
      " [1.375e+01 1.730e+00 2.410e+00 ... 2.900e+00 1.320e+03 1.000e+00]\n",
      " ...\n",
      " [1.279e+01 2.670e+00 2.480e+00 ... 1.470e+00 4.800e+02 3.000e+00]\n",
      " [1.377e+01 1.900e+00 2.680e+00 ... 2.930e+00 1.375e+03 1.000e+00]\n",
      " [1.324e+01 2.590e+00 2.870e+00 ... 2.930e+00 7.350e+02 1.000e+00]]\n",
      "(100, 14)\n"
     ]
    }
   ],
   "source": [
    "print(raw_data)\n",
    "print(raw_data.shape)"
   ]
  },
  {
   "cell_type": "markdown",
   "metadata": {},
   "source": [
    "**2.1**: Write code to find out how many unique classes are there in the dataset."
   ]
  },
  {
   "cell_type": "code",
   "execution_count": 109,
   "metadata": {},
   "outputs": [
    {
     "name": "stdout",
     "output_type": "stream",
     "text": [
      "<class 'numpy.ndarray'>\n",
      "[3. 2. 1. 2. 1. 2. 3. 3. 2. 2. 1. 1. 3. 2. 2. 2. 2. 2. 1. 3. 1. 2. 2. 2.\n",
      " 1. 1. 3. 1. 1. 1. 3. 1. 1. 2. 1. 3. 1. 2. 2. 3. 2. 2. 2. 2. 1. 2. 2. 2.\n",
      " 2. 2. 1. 2. 3. 1. 1. 3. 3. 2. 2. 2. 2. 3. 2. 3. 3. 2. 2. 1. 3. 1. 1. 1.\n",
      " 2. 2. 3. 3. 2. 2. 3. 3. 2. 1. 1. 3. 2. 1. 2. 3. 2. 2. 2. 1. 1. 3. 3. 2.\n",
      " 1. 3. 1. 1.]\n",
      "There are 3 unquie classes in this dataset and list it here [1 2 3]\n"
     ]
    }
   ],
   "source": [
    "## SOLUTION 1\n",
    "print(type(raw_data))\n",
    "un_classes = raw_data[:, 13]\n",
    "print(un_classes)\n",
    "u= np.unique(un_classes)\n",
    "\n",
    "print(\"There are {} unquie classes in this dataset and list it here {}\".format(len(u),u))\n",
    "\n",
    "\n"
   ]
  },
  {
   "cell_type": "markdown",
   "metadata": {},
   "source": [
    "**2.2**: Calculate the row-wise sum of the data."
   ]
  },
  {
   "cell_type": "code",
   "execution_count": 110,
   "metadata": {},
   "outputs": [
    {
     "name": "stdout",
     "output_type": "stream",
     "text": [
      "The row-wise sum of the data is lised below\n",
      "  [ 671.31      614.91     1461.        428.88     1671.6       570.3\n",
      "  869.35      666.42      625.29      527.67     1142.64     1292.52\n",
      "  878.19      631.12      643.34      519.77      659.51      505.84\n",
      " 1702.52      720.6      1302.79      589.55      630.72      608.74\n",
      " 1445.95     1437.46      611.059999 1044.5       966.36     1355.12\n",
      "  827.59     1197.46     1616.23      525.59      927.08      832.4\n",
      " 1248.08      597.72      700.57      809.24      524.49      656.85\n",
      "  458.7       762.32     1413.44      560.86      827.85      547.32\n",
      "  723.56      761.33     1139.88      413.33      601.6      1428.11\n",
      " 1469.78      697.57      799.59      714.3       543.88      498.54\n",
      " 1021.236    1039.27      747.92      841.02      673.33      507.9\n",
      "  915.92     1677.79      921.95     1293.9      1426.28     1195.1\n",
      "  516.27      637.38      830.23      656.41      706.38      453.9\n",
      "  911.74      831.01      597.8       995.46     1013.93     1021.28\n",
      "  815.78      940.76      825.08      721.66      572.49      465.1\n",
      "  855.95     1076.61     1291.68      684.17      713.58      639.76\n",
      " 1192.82      652.03     1544.67      909.69    ]\n",
      "(100,)\n"
     ]
    }
   ],
   "source": [
    "## SOLUTION \n",
    "row_wise_sum = np.sum(raw_data,axis=1)\n",
    "print(\"The row-wise sum of the data is lised below\\n \", row_wise_sum)\n",
    "print(row_wise_sum.shape)\n"
   ]
  },
  {
   "cell_type": "markdown",
   "metadata": {},
   "source": [
    "**2.3**: Calculate the column-wise mean of the data."
   ]
  },
  {
   "cell_type": "code",
   "execution_count": 107,
   "metadata": {},
   "outputs": [
    {
     "name": "stdout",
     "output_type": "stream",
     "text": [
      "The column-wise mean of the data is listed below:\n",
      " [1.29517000e+01 2.36250000e+00 2.32670000e+00 1.93720000e+01\n",
      " 9.80500000e+01 2.25280000e+00 1.98770000e+00 3.68700000e-01\n",
      " 1.59900000e+00 4.99539999e+00 9.73760000e-01 2.60500000e+00\n",
      " 7.17770000e+02 1.94000000e+00]\n",
      "(14,)\n",
      "\n",
      "\n",
      "The row-wise mean of the data is listed below:\n",
      " [ 47.95071429  43.92214286 104.35714286  30.63428571 119.4\n",
      "  40.73571429  62.09642857  47.60142857  44.66357143  37.69071429\n",
      "  81.61714286  92.32285714  62.72785714  45.08        45.95285714\n",
      "  37.12642857  47.10785714  36.13142857 121.60857143  51.47142857\n",
      "  93.05642857  42.11071429  45.05142857  43.48142857 103.28214286\n",
      " 102.67571429  43.64714279  74.60714286  69.02571429  96.79428571\n",
      "  59.11357143  85.53285714 115.445       37.54214286  66.22\n",
      "  59.45714286  89.14857143  42.69428571  50.04071429  57.80285714\n",
      "  37.46357143  46.91785714  32.76428571  54.45142857 100.96\n",
      "  40.06142857  59.13214286  39.09428571  51.68285714  54.38071429\n",
      "  81.42        29.52357143  42.97142857 102.00785714 104.98428571\n",
      "  49.82642857  57.11357143  51.02142857  38.84857143  35.61\n",
      "  72.94542857  74.23357143  53.42285714  60.07285714  48.095\n",
      "  36.27857143  65.42285714 119.84214286  65.85357143  92.42142857\n",
      " 101.87714286  85.36428571  36.87642857  45.52714286  59.30214286\n",
      "  46.88642857  50.45571429  32.42142857  65.12428571  59.35785714\n",
      "  42.7         71.10428571  72.42357143  72.94857143  58.27\n",
      "  67.19714286  58.93428571  51.54714286  40.89214286  33.22142857\n",
      "  61.13928571  76.90071429  92.26285714  48.86928571  50.97\n",
      "  45.69714286  85.20142857  46.57357143 110.33357143  64.97785714]\n",
      "(100,)\n"
     ]
    }
   ],
   "source": [
    "## SOLUTION 3\n",
    "column_wise_mean=raw_data.mean(axis=0)\n",
    "\n",
    "print(\"The column-wise mean of the data is listed below:\\n\", column_wise_mean)\n",
    "print(column_wise_mean.shape)\n",
    "\n",
    "row_wise_mean=raw_data.mean(axis=1)\n",
    "print(\"\\n\\nThe row-wise mean of the data is listed below:\\n\", row_wise_mean)\n",
    "print(row_wise_mean.shape)"
   ]
  },
  {
   "cell_type": "markdown",
   "metadata": {},
   "source": [
    "**2.4**: Calculate the class-wise mean and standard deviation of the each column."
   ]
  },
  {
   "cell_type": "code",
   "execution_count": 112,
   "metadata": {},
   "outputs": [
    {
     "name": "stdout",
     "output_type": "stream",
     "text": [
      "[8.38264940e-01 1.12796398e+00 2.83968502e-01 3.47102521e+00\n",
      " 1.31539918e+01 6.10832350e-01 9.44449951e-01 1.27142872e-01\n",
      " 6.05323880e-01 2.42813194e+00 2.35441760e-01 6.94683381e-01\n",
      " 3.24169550e+02 7.45922248e-01]\n",
      "(14,)\n",
      "1.94\n"
     ]
    }
   ],
   "source": [
    "## SOLUTION 4\n",
    "\n",
    "std_column= np.std(raw_data, axis=0)\n",
    "print(std_column)\n",
    "print(std_column.shape)\n",
    "un_classes = raw_data[:, 13]\n",
    "#print(un_classes)\n",
    "class_wise_mean = un_classes.mean()\n",
    "print(class_wise_mean)"
   ]
  },
  {
   "cell_type": "markdown",
   "metadata": {},
   "source": [
    "Use `wine_modified.csv` for the following questions."
   ]
  },
  {
   "cell_type": "code",
   "execution_count": 116,
   "metadata": {},
   "outputs": [
    {
     "name": "stdout",
     "output_type": "stream",
     "text": [
      "[[1.000e+00 1.423e+01 1.710e+00 ... 1.040e+00 3.920e+00 1.065e+03]\n",
      " [1.000e+00 1.320e+01 1.780e+00 ... 1.050e+00 3.400e+00 1.050e+03]\n",
      " [1.000e+00 1.316e+01 2.360e+00 ... 1.030e+00 3.170e+00 1.185e+03]\n",
      " ...\n",
      " [3.000e+00 1.327e+01 4.280e+00 ... 5.900e-01 1.560e+00 8.350e+02]\n",
      " [3.000e+00 1.317e+01 2.590e+00 ... 6.000e-01 1.620e+00 8.400e+02]\n",
      " [3.000e+00 1.413e+01 4.100e+00 ... 6.100e-01 1.600e+00 5.600e+02]]\n"
     ]
    }
   ],
   "source": [
    "raw_data1 = np.genfromtxt('./wine_modified.csv', delimiter=',')[1:]\n",
    "print(raw_data1)"
   ]
  },
  {
   "cell_type": "markdown",
   "metadata": {},
   "source": [
    "**2.5** (optional): Remove the rows with missing labels (’class’) and rows with more than 7 missing features. Report the remaining number of rows."
   ]
  },
  {
   "cell_type": "code",
   "execution_count": 131,
   "metadata": {},
   "outputs": [
    {
     "ename": "SyntaxError",
     "evalue": "invalid syntax (<ipython-input-131-54fdf2bafed5>, line 5)",
     "output_type": "error",
     "traceback": [
      "\u001b[1;36m  File \u001b[1;32m\"<ipython-input-131-54fdf2bafed5>\"\u001b[1;36m, line \u001b[1;32m5\u001b[0m\n\u001b[1;33m    rr = r[ r for r is int]\u001b[0m\n\u001b[1;37m                ^\u001b[0m\n\u001b[1;31mSyntaxError\u001b[0m\u001b[1;31m:\u001b[0m invalid syntax\n"
     ]
    }
   ],
   "source": [
    "## SOLUTION 5\n",
    "import pandas as pd\n",
    "r = raw_data1[:, 0]\n",
    "print(r)\n",
    "rr = r[r!= nan ]\n",
    "print(rr)\n"
   ]
  },
  {
   "cell_type": "markdown",
   "metadata": {},
   "source": [
    "**2.6** (optional): Remove features with >50% of missing values. For other features with missing values fill them with the mean of the corresponding features. Report the removed features (if any) and standard deviation of features with missing values after filling."
   ]
  },
  {
   "cell_type": "code",
   "execution_count": null,
   "metadata": {},
   "outputs": [],
   "source": [
    "## SOLUTION 6\n"
   ]
  },
  {
   "cell_type": "markdown",
   "metadata": {},
   "source": [
    "**2.7** (optional): Detect and remove rows with any outliers/incorrect values in features ’alcohol’ and ’proline’ (if any). Clearly state the basis of your removal in comments."
   ]
  },
  {
   "cell_type": "code",
   "execution_count": null,
   "metadata": {},
   "outputs": [],
   "source": [
    "## SOLUTION 7"
   ]
  }
 ],
 "metadata": {
  "anaconda-cloud": {},
  "kernelspec": {
   "display_name": "Python 3",
   "language": "python",
   "name": "python3"
  },
  "language_info": {
   "codemirror_mode": {
    "name": "ipython",
    "version": 3
   },
   "file_extension": ".py",
   "mimetype": "text/x-python",
   "name": "python",
   "nbconvert_exporter": "python",
   "pygments_lexer": "ipython3",
   "version": "3.6.5"
  }
 },
 "nbformat": 4,
 "nbformat_minor": 2
}
